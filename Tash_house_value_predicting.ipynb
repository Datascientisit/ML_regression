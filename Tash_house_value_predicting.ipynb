{
  "nbformat": 4,
  "nbformat_minor": 0,
  "metadata": {
    "colab": {
      "private_outputs": true,
      "provenance": [],
      "authorship_tag": "ABX9TyMjG4KK6PKtavenXWBTuf3i",
      "include_colab_link": true
    },
    "kernelspec": {
      "name": "python3",
      "display_name": "Python 3"
    },
    "language_info": {
      "name": "python"
    }
  },
  "cells": [
    {
      "cell_type": "markdown",
      "metadata": {
        "id": "view-in-github",
        "colab_type": "text"
      },
      "source": [
        "<a href=\"https://colab.research.google.com/github/Datascientisit/ML_regression/blob/main/Tash_house_value_predicting.ipynb\" target=\"_parent\"><img src=\"https://colab.research.google.com/assets/colab-badge.svg\" alt=\"Open In Colab\"/></a>"
      ]
    },
    {
      "cell_type": "markdown",
      "source": [],
      "metadata": {
        "id": "r_rKKrJ3lHFq"
      }
    },
    {
      "cell_type": "markdown",
      "source": [
        "# Ustunlar ta'rifi\n",
        "- `location` - sotilayotgan uy manzili\n",
        "- `district` - uy joylashgan tuman\n",
        "- `rooms` - xonalar soni\n",
        "- `size` - uy maydoni (kv.m)\n",
        "- `level` - uy joylashgan qavat\n",
        "- `max_levels` - ja'mi qavatlar soni\n",
        "- `price` - uy narxi\n",
        "\n",
        "## Vazifani CRSIP-DM Metolodgiyasi yordamida bajaring.\n",
        "<img src=\"https://i.imgur.com/dzZnnYi.png\" alt=\"CRISP-DM\" width=\"800\"/>"
      ],
      "metadata": {
        "id": "A1wt67xRcPcB"
      }
    },
    {
      "cell_type": "markdown",
      "source": [
        "*Biz uchun zarur kutibxonlar*"
      ],
      "metadata": {
        "id": "K3xq6bJqkukj"
      }
    },
    {
      "cell_type": "code",
      "execution_count": null,
      "metadata": {
        "id": "VUKnnP2SkZKn"
      },
      "outputs": [],
      "source": [
        "import pandas as pd\n",
        "import numpy as np\n",
        "import sklearn\n",
        "import matplotlib.pyplot as plt\n",
        "%matplotlib inline\n",
        "import seaborn as sns"
      ]
    },
    {
      "cell_type": "code",
      "source": [
        "df = pd.read_csv('https://raw.githubusercontent.com/anvarnarz/praktikum_datasets/main/housing_data_08-02-2021.csv')\n",
        "df.head()"
      ],
      "metadata": {
        "id": "ozfORH-WksOn"
      },
      "execution_count": null,
      "outputs": []
    },
    {
      "cell_type": "code",
      "source": [
        "df.describe()"
      ],
      "metadata": {
        "id": "E1Q2UELR7Tyw"
      },
      "execution_count": null,
      "outputs": []
    },
    {
      "cell_type": "code",
      "source": [
        "df.info()"
      ],
      "metadata": {
        "id": "90W8pRoMtrms"
      },
      "execution_count": null,
      "outputs": []
    },
    {
      "cell_type": "code",
      "source": [
        "df['price'] = pd.to_numeric(df['price'], errors='coerce', downcast='integer')\n",
        "df['size'] = pd.to_numeric(df['size'], errors='coerce', downcast='integer')"
      ],
      "metadata": {
        "id": "fDuzuN9H-5Mn"
      },
      "execution_count": null,
      "outputs": []
    },
    {
      "cell_type": "code",
      "source": [
        "df['size'].fillna(df['size'].mean(), inplace=True)\n",
        "df['price'].fillna(df['price'].mean(), inplace=True)"
      ],
      "metadata": {
        "id": "xnlTnTzh3gJm"
      },
      "execution_count": null,
      "outputs": []
    },
    {
      "cell_type": "markdown",
      "source": [],
      "metadata": {
        "id": "wImsqIBlH3j7"
      }
    },
    {
      "cell_type": "code",
      "source": [
        "df.info()"
      ],
      "metadata": {
        "id": "jc2XfPSC3uaz"
      },
      "execution_count": null,
      "outputs": []
    },
    {
      "cell_type": "code",
      "source": [
        "df['price_cat'] = pd.qcut(df['price'], 5)\n",
        "df['price_cat'].value_counts()"
      ],
      "metadata": {
        "id": "sCGGucjc32sQ"
      },
      "execution_count": null,
      "outputs": []
    },
    {
      "cell_type": "code",
      "source": [
        "from sklearn.model_selection import StratifiedShuffleSplit\n",
        "split = StratifiedShuffleSplit(n_splits=1, test_size=0.2, random_state=42)\n",
        "\n",
        "for train_index, test_index in split.split(df, df['price_cat']):\n",
        "    strat_train_set = df.iloc[train_index]\n",
        "    strat_test_set = df.iloc[test_index]"
      ],
      "metadata": {
        "id": "R04eyb-K4vWS"
      },
      "execution_count": null,
      "outputs": []
    },
    {
      "cell_type": "code",
      "source": [
        "strat_train_set.drop('price_cat', axis=1, inplace=True)\n",
        "strat_test_set.drop('price_cat', axis=1, inplace=True)"
      ],
      "metadata": {
        "id": "Th5CpfY7gw_W"
      },
      "execution_count": null,
      "outputs": []
    },
    {
      "cell_type": "code",
      "source": [
        "df_train = strat_train_set.copy()\n",
        "df_train_labels = df_train['price'].copy()\n",
        "df_train.plot(kind='scatter', x='price', y='district', figsize=(7,5))\n",
        "plt.show()"
      ],
      "metadata": {
        "id": "lt6tKxvf5yMi"
      },
      "execution_count": null,
      "outputs": []
    },
    {
      "cell_type": "code",
      "source": [
        "df_train.plot(\n",
        "    kind='scatter',\n",
        "    x='price',\n",
        "    y='size',\n",
        "    alpha=1,\n",
        "    s=df_train['max_levels']/50,\n",
        "    label='max_lebels',\n",
        "    figsize=(7,5),\n",
        "    c='price',\n",
        "    cmap=plt.get_cmap('jet'),\n",
        "    colorbar=True,\n",
        "    )\n",
        "plt.legend()\n",
        "plt.show()"
      ],
      "metadata": {
        "id": "5S5nbXzw6Sns"
      },
      "execution_count": null,
      "outputs": []
    },
    {
      "cell_type": "code",
      "source": [
        "df_num = df_train.select_dtypes(include=['int64', 'float64'])\n",
        "df_num.head()"
      ],
      "metadata": {
        "id": "8edwkKczsjNF"
      },
      "execution_count": null,
      "outputs": []
    },
    {
      "cell_type": "code",
      "source": [
        "sns.pairplot(df_num, height=5)\n",
        "plt.show()"
      ],
      "metadata": {
        "id": "zQfkKJD-CvR_"
      },
      "execution_count": null,
      "outputs": []
    },
    {
      "cell_type": "code",
      "source": [
        "df_obj = df_train.select_dtypes(include='object')\n",
        "df_obj.head()"
      ],
      "metadata": {
        "id": "m-wiG40ltdzq"
      },
      "execution_count": null,
      "outputs": []
    },
    {
      "cell_type": "code",
      "source": [
        "df_obj['location'] = df_obj['location'].map(lambda x: x.split('город Ташкент, '))\n",
        "df_obj['location']"
      ],
      "metadata": {
        "id": "4dvUqFlPuPOk"
      },
      "execution_count": null,
      "outputs": []
    },
    {
      "cell_type": "code",
      "source": [
        "def removeEl(lst):\n",
        "    del lst[0]\n",
        "    return lst\n",
        "\n",
        "df_obj['location'] = df_obj['location'].map(removeEl)\n",
        "df_obj['location']"
      ],
      "metadata": {
        "id": "irhVpzpvuWLp"
      },
      "execution_count": null,
      "outputs": []
    },
    {
      "cell_type": "code",
      "source": [
        "df_obj.drop('location', axis=1, inplace=True)"
      ],
      "metadata": {
        "id": "DjFKi76ivF7i"
      },
      "execution_count": null,
      "outputs": []
    },
    {
      "cell_type": "code",
      "source": [
        "df_obj['district'].value_counts()"
      ],
      "metadata": {
        "id": "OpjHe8TP0MRb"
      },
      "execution_count": null,
      "outputs": []
    },
    {
      "cell_type": "code",
      "source": [
        "df_encoded = pd.get_dummies(df_obj['district'])\n",
        "df_encoded"
      ],
      "metadata": {
        "id": "nrIQJT4Y2E9N"
      },
      "execution_count": null,
      "outputs": []
    },
    {
      "cell_type": "code",
      "source": [
        "df_encoded.replace({True:1, False:0}, inplace=True)\n",
        "df_encoded"
      ],
      "metadata": {
        "id": "LHWbpLmy2MsM"
      },
      "execution_count": null,
      "outputs": []
    },
    {
      "cell_type": "code",
      "source": [
        "sum(df_num.index==df_encoded.index)"
      ],
      "metadata": {
        "id": "HMQ7tJ422hlD"
      },
      "execution_count": null,
      "outputs": []
    },
    {
      "cell_type": "code",
      "source": [
        "df_tr = pd.concat([df_num, df_encoded], axis=1)\n",
        "df_tr"
      ],
      "metadata": {
        "id": "6cS9jETg2s71"
      },
      "execution_count": null,
      "outputs": []
    },
    {
      "cell_type": "code",
      "source": [
        "from sklearn.preprocessing import StandardScaler\n",
        "scaler = StandardScaler()\n",
        "df_str = scaler.fit_transform(df_tr)\n",
        "df_str"
      ],
      "metadata": {
        "id": "Od8tKOUs2_oL"
      },
      "execution_count": null,
      "outputs": []
    },
    {
      "cell_type": "markdown",
      "source": [
        "**ML model**"
      ],
      "metadata": {
        "id": "DFEHC3ftDmwz"
      }
    },
    {
      "cell_type": "code",
      "source": [
        "from sklearn.linear_model import LinearRegression\n",
        "\n",
        "LR_model = LinearRegression()\n",
        "LR_model.fit(df_str, df_train_labels)"
      ],
      "metadata": {
        "id": "Cj3gytIKCjuZ"
      },
      "execution_count": null,
      "outputs": []
    },
    {
      "cell_type": "code",
      "source": [
        "test_data = strat_test_set.drop('price', axis=1)\n",
        "test_labels = strat_test_set['price'].copy()"
      ],
      "metadata": {
        "id": "REUvMeW0D5mD"
      },
      "execution_count": null,
      "outputs": []
    },
    {
      "cell_type": "code",
      "source": [
        "test_data_encoded = pd.get_dummies(test_data['district'])\n",
        "test_data_encoded.replace({True:1, False:0}, inplace=True)"
      ],
      "metadata": {
        "id": "WsJohzMkEKPT"
      },
      "execution_count": null,
      "outputs": []
    },
    {
      "cell_type": "code",
      "source": [
        "test_data_num = test_data.select_dtypes(include=['int64', 'float64'])\n",
        "test_data_num"
      ],
      "metadata": {
        "id": "x06n6WJkEY15"
      },
      "execution_count": null,
      "outputs": []
    },
    {
      "cell_type": "code",
      "source": [
        "test_data_tr = pd.concat([test_data_num, test_data_encoded], axis=1)\n",
        "test_data_tr"
      ],
      "metadata": {
        "id": "OG5W1i2KEgu3"
      },
      "execution_count": null,
      "outputs": []
    },
    {
      "cell_type": "code",
      "source": [
        "for col in df_tr.columns:\n",
        "    if col not in test_data_tr.columns:\n",
        "        test_data_tr[col] = 0\n",
        "\n",
        "test_data_tr = test_data_tr[df_tr.columns]"
      ],
      "metadata": {
        "id": "rNBikeSOG6GH"
      },
      "execution_count": null,
      "outputs": []
    },
    {
      "cell_type": "code",
      "source": [
        "test_data_tr = scaler.fit_transform(test_data_tr)\n",
        "test_data_tr"
      ],
      "metadata": {
        "id": "jLs7YYyfEjNk"
      },
      "execution_count": null,
      "outputs": []
    },
    {
      "cell_type": "code",
      "source": [
        "test_predictions = LR_model.predict(test_data_tr)"
      ],
      "metadata": {
        "id": "MqNIpiwOElc1"
      },
      "execution_count": null,
      "outputs": []
    },
    {
      "cell_type": "code",
      "source": [
        "pd.DataFrame({'price': test_labels, 'predictions': test_predictions})"
      ],
      "metadata": {
        "id": "bUVVcaD1Eqdz"
      },
      "execution_count": null,
      "outputs": []
    },
    {
      "cell_type": "code",
      "source": [
        "from sklearn.metrics import mean_squared_error\n",
        "lin_mse = mean_squared_error(test_labels, test_predictions)\n",
        "lin_rmse = np.sqrt(lin_mse)\n",
        "print(lin_rmse)"
      ],
      "metadata": {
        "id": "GqxMQV_XHrJS"
      },
      "execution_count": null,
      "outputs": []
    },
    {
      "cell_type": "code",
      "source": [
        "from sklearn.metrics import mean_absolute_error\n",
        "lin_mae = mean_absolute_error(test_labels, test_predictions)\n",
        "print(lin_mae)"
      ],
      "metadata": {
        "id": "tjtfPoNrIj91"
      },
      "execution_count": null,
      "outputs": []
    },
    {
      "cell_type": "markdown",
      "source": [
        "Random Forest"
      ],
      "metadata": {
        "id": "fSQQBXFoItpB"
      }
    },
    {
      "cell_type": "code",
      "source": [
        "from sklearn.ensemble import RandomForestRegressor\n",
        "RF_model = RandomForestRegressor()\n",
        "RF_model.fit(df_str, df_train_labels)"
      ],
      "metadata": {
        "id": "CVlEcONeIqtP"
      },
      "execution_count": null,
      "outputs": []
    },
    {
      "cell_type": "code",
      "source": [
        "predictions = RF_model.predict(test_data_tr)"
      ],
      "metadata": {
        "id": "r6KshMu3I1H6"
      },
      "execution_count": null,
      "outputs": []
    },
    {
      "cell_type": "code",
      "source": [
        "from sklearn.metrics import mean_squared_error\n",
        "lin_mse = mean_squared_error(test_labels, predictions)\n",
        "lin_rmse = np.sqrt(lin_mse)\n",
        "print(lin_rmse)"
      ],
      "metadata": {
        "id": "EjfTuychI-Xb"
      },
      "execution_count": null,
      "outputs": []
    },
    {
      "cell_type": "code",
      "source": [
        "from sklearn.metrics import mean_absolute_error\n",
        "lin_mae = mean_absolute_error(test_labels, predictions)\n",
        "print(lin_mae)"
      ],
      "metadata": {
        "id": "bX3AJMGxJAdr"
      },
      "execution_count": null,
      "outputs": []
    },
    {
      "cell_type": "code",
      "source": [
        "from sklearn.model_selection import cross_val_score\n",
        "scores = cross_val_score(RF_model, df_str, df_train_labels, scoring='neg_mean_squared_error', cv=10)\n",
        "rmse_scores = np.sqrt(-scores)"
      ],
      "metadata": {
        "id": "CdZFymOcJB7W"
      },
      "execution_count": null,
      "outputs": []
    },
    {
      "cell_type": "code",
      "source": [
        "def display_scores(scores):\n",
        "    print('Scores:', scores)\n",
        "    print('Mean:', scores.mean())\n",
        "    print('Standard deviation:', scores.std())\n",
        "display_scores(rmse_scores)"
      ],
      "metadata": {
        "id": "ffVJPAhiJRiy"
      },
      "execution_count": null,
      "outputs": []
    },
    {
      "cell_type": "code",
      "source": [],
      "metadata": {
        "id": "Mlr0cR6DLc4e"
      },
      "execution_count": null,
      "outputs": []
    }
  ]
}