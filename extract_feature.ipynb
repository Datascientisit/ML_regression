{
  "nbformat": 4,
  "nbformat_minor": 0,
  "metadata": {
    "colab": {
      "private_outputs": true,
      "provenance": [],
      "mount_file_id": "1Xyv7hXhesLsHQDAOUoPlluNgNlD-2rcO",
      "authorship_tag": "ABX9TyOINbf/cZmVFvkx3ALE8tw4",
      "include_colab_link": true
    },
    "kernelspec": {
      "name": "python3",
      "display_name": "Python 3"
    },
    "language_info": {
      "name": "python"
    }
  },
  "cells": [
    {
      "cell_type": "markdown",
      "metadata": {
        "id": "view-in-github",
        "colab_type": "text"
      },
      "source": [
        "<a href=\"https://colab.research.google.com/github/Datascientisit/ML_regression/blob/main/extract_feature.ipynb\" target=\"_parent\"><img src=\"https://colab.research.google.com/assets/colab-badge.svg\" alt=\"Open In Colab\"/></a>"
      ]
    },
    {
      "cell_type": "code",
      "execution_count": null,
      "metadata": {
        "id": "eZ_wGdAwkuQ4"
      },
      "outputs": [],
      "source": [
        "import librosa\n",
        "import pandas as pd\n",
        "import numpy as np\n",
        "import os\n",
        "from scipy.stats import kurtosis, mode\n",
        "import IPython.display as ipd"
      ]
    },
    {
      "cell_type": "code",
      "source": [
        "voice = pd.read_csv(\"/content/drive/MyDrive/voice.csv\")"
      ],
      "metadata": {
        "id": "ssACkdwclDSv"
      },
      "execution_count": null,
      "outputs": []
    },
    {
      "cell_type": "code",
      "source": [
        "y, sr = librosa.load(\"/content/audios/Thompson-Advanced-WB-11.2.mp3\")"
      ],
      "metadata": {
        "id": "ZZtnJVqElkaG"
      },
      "execution_count": null,
      "outputs": []
    },
    {
      "cell_type": "code",
      "source": [
        "y"
      ],
      "metadata": {
        "id": "Ku0CcGm2l_yD"
      },
      "execution_count": null,
      "outputs": []
    },
    {
      "cell_type": "code",
      "source": [
        "pd.Series(y).plot(\n",
        "    figsize=(10, 5),\n",
        "    title=\"Voice Signal\"\n",
        ")"
      ],
      "metadata": {
        "id": "IS8xygUUmPiU"
      },
      "execution_count": null,
      "outputs": []
    },
    {
      "cell_type": "code",
      "source": [
        "audio = ipd.Audio(\"/content/audios/Thompson-Advanced-WB-11.2.mp3\")\n",
        "audio"
      ],
      "metadata": {
        "id": "EzMVIPkDmbQu"
      },
      "execution_count": null,
      "outputs": []
    },
    {
      "cell_type": "code",
      "source": [
        "def extract_mean_frequency(y, sr=22050):\n",
        "    return librosa.feature.spectral_centroid(y=y, sr=sr).mean()\n",
        "\n",
        "def extract_standard_deviation(y, sr=22050):\n",
        "    return librosa.feature.spectral_centroid(y=y, sr=sr).std()\n",
        "\n",
        "def extract_median(y, sr=22050):\n",
        "    return np.median(librosa.feature.spectral_centroid(y=y, sr=sr))\n",
        "\n",
        "def extract_kurtosis(y, sr=22050):\n",
        "    return kurtosis(y)\n",
        "\n",
        "def extract_mode(y, sr=22050):\n",
        "    return mode(librosa.feature.spectral_centroid(y=y, sr=sr))"
      ],
      "metadata": {
        "id": "XoDR1pJhml9W"
      },
      "execution_count": null,
      "outputs": []
    },
    {
      "cell_type": "code",
      "source": [
        "mean_freq=extract_mean_frequency(y)\n",
        "std_freq=extract_standard_deviation(y)\n",
        "median_freq=extract_median(y)\n",
        "kurtosis_freq=extract_kurtosis(y)\n",
        "mode_freq=extract_mode(y)"
      ],
      "metadata": {
        "id": "sa_LDYFum7go"
      },
      "execution_count": null,
      "outputs": []
    },
    {
      "cell_type": "code",
      "source": [
        "for x in [mean_freq, std_freq, median_freq, kurtosis_freq, mode_freq]:\n",
        "  print(x)"
      ],
      "metadata": {
        "id": "8O24mLkAoGWX"
      },
      "execution_count": null,
      "outputs": []
    },
    {
      "cell_type": "code",
      "source": [
        "def extract_extral_flatness(y):\n",
        "    return librosa.feature.spectral_flatness(y=y)[0]\n",
        "\n",
        "def extract_mode(y):\n",
        "    return mode(y)[0]\n",
        "\n",
        "def extract_centroid(y):\n",
        "    return librosa.feature.spectral_centroid(y=y, sr=sr)[0]\n",
        "\n",
        "def extract_peak(y):\n",
        "    return librosa.feature.spectral_rolloff(y=y, sr=sr)[0]\n",
        "\n",
        "def extract_mean_function(y):\n",
        "    return librosa.feature.mfcc(y=y, sr=sr).mean()\n",
        "\n",
        "def extract_standard_deviation(y):\n",
        "    return librosa.feature.mfcc(y=y, sr=sr).std()\n",
        "\n",
        "def extract_min_function(y):\n",
        "    return librosa.feature.mfcc(y=y, sr=sr).min()\n",
        "\n",
        "def extract_max_function(y):\n",
        "    return librosa.feature.mfcc(y=y, sr=sr).max()\n",
        "\n",
        "def extract_mean_dom(y, sr):\n",
        "    return librosa.feature.spectral_bandwidth(y=y, sr=sr)[0].mean()\n",
        "\n",
        "def extract_std_dom(y, sr):\n",
        "    return librosa.feature.spectral_bandwidth(y=y, sr=sr)[0].std()\n",
        "\n",
        "def extract_min_dom(y, sr):\n",
        "    return librosa.feature.spectral_bandwidth(y=y, sr=sr)[0].min()\n",
        "\n",
        "def extract_max_dom(y, sr):\n",
        "    return librosa.feature.spectral_bandwidth(y=y, sr=sr)[0].max()\n",
        "\n",
        "def dfrange(maxdom, mindom):\n",
        "    return maxdom - mindom\n",
        "\n",
        "def extract_modindx(y, sr):\n",
        "    return librosa.feature.tempogram(y=y, sr=sr).mean()"
      ],
      "metadata": {
        "id": "xN08tgRpoKG3"
      },
      "execution_count": null,
      "outputs": []
    },
    {
      "cell_type": "code",
      "source": [
        "def extract_features(audio_file, sr=sr):\n",
        "    y, sr = librosa.load(audio_file)\n",
        "\n",
        "    mean_freq=extract_mean_frequency(y)\n",
        "    std_freq=extract_standard_deviation(y)\n",
        "    median_freq=extract_median(y)\n",
        "    kurtosis_freq=extract_kurtosis(y)\n",
        "    mode_freq=extract_mode(y)\n",
        "    sfm = extract_extral_flatness(y)\n",
        "    centroid = extract_centroid(y)\n",
        "    peak = extract_peak(y)\n",
        "    meanfun = extract_mean_function(y)\n",
        "    minfun = extract_min_function(y)\n",
        "    maxfun = extract_max_function(y)\n",
        "    meandom = extract_mean_dom(y, sr)\n",
        "    mindom = extract_min_dom(y, sr)\n",
        "    maxdom = extract_max_dom(y, sr)\n",
        "    modindx = extract_modindx(y, sr)\n",
        "\n",
        "    featurs = {\n",
        "        'meanfreq': mean_freq,\n",
        "        'sd': std_freq,\n",
        "        'median': median_freq,\n",
        "        'mode': mode_freq,\n",
        "        'centroid': centroid,\n",
        "        'meanfun': meanfun,\n",
        "        'minfun': minfun,\n",
        "        'maxfun': maxfun,\n",
        "        'meandom': meandom,\n",
        "        'mindom': mindom,\n",
        "        'maxdom': maxdom,\n",
        "        'modindx': modindx\n",
        "    }\n",
        "\n",
        "    return featurs"
      ],
      "metadata": {
        "id": "ADmGlVowssis"
      },
      "execution_count": null,
      "outputs": []
    },
    {
      "cell_type": "code",
      "source": [
        "def process_audio_directory(directory_path):\n",
        "    features_list = []\n",
        "    for filename in os.listdir(directory_path):\n",
        "        if filename.endswith(\".mp3\"):\n",
        "            audio_file = os.path.join(directory_path, filename)\n",
        "            features = extract_features(audio_file)\n",
        "            features_list.append(features)\n",
        "    df = pd.DataFrame(features_list)\n",
        "\n",
        "    df.to_csv('features.csv', index=False)\n",
        "\n",
        "input_diracotry = 'audios/'\n",
        "process_audio_directory(input_diracotry)"
      ],
      "metadata": {
        "id": "QGMjrPVCvlYP"
      },
      "execution_count": null,
      "outputs": []
    },
    {
      "cell_type": "code",
      "source": [
        "x =pd.read_csv(\"/content/features.csv\")"
      ],
      "metadata": {
        "id": "X2-TWhC-xY8z"
      },
      "execution_count": null,
      "outputs": []
    },
    {
      "cell_type": "code",
      "source": [
        "x.to_excel(\"features.xlsx\", index=False)"
      ],
      "metadata": {
        "id": "IsY0H1WU0HOQ"
      },
      "execution_count": null,
      "outputs": []
    },
    {
      "cell_type": "code",
      "source": [],
      "metadata": {
        "id": "X4katVUH0hJN"
      },
      "execution_count": null,
      "outputs": []
    }
  ]
}