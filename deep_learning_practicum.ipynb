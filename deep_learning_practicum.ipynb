{
  "nbformat": 4,
  "nbformat_minor": 0,
  "metadata": {
    "colab": {
      "private_outputs": true,
      "provenance": [],
      "gpuType": "T4",
      "authorship_tag": "ABX9TyO+DFykA4sgQWRnqDtx38tx",
      "include_colab_link": true
    },
    "kernelspec": {
      "name": "python3",
      "display_name": "Python 3"
    },
    "language_info": {
      "name": "python"
    },
    "accelerator": "GPU"
  },
  "cells": [
    {
      "cell_type": "markdown",
      "metadata": {
        "id": "view-in-github",
        "colab_type": "text"
      },
      "source": [
        "<a href=\"https://colab.research.google.com/github/Datascientisit/ML_regression/blob/main/deep_learning_practicum.ipynb\" target=\"_parent\"><img src=\"https://colab.research.google.com/assets/colab-badge.svg\" alt=\"Open In Colab\"/></a>"
      ]
    },
    {
      "cell_type": "code",
      "execution_count": null,
      "metadata": {
        "id": "olgZjE1ga3Dz"
      },
      "outputs": [],
      "source": [
        "import fastai"
      ]
    },
    {
      "cell_type": "code",
      "source": [
        "fastai.__version__"
      ],
      "metadata": {
        "id": "NlEpwgAgbBFZ"
      },
      "execution_count": null,
      "outputs": []
    },
    {
      "cell_type": "code",
      "source": [
        "from fastai.vision.all import *\n",
        "from ipywidgets import widgets\n",
        "\n",
        "#data\n",
        "path = untar_data(URLs.PETS)/'images'\n",
        "\n",
        "def is_cat(x):\n",
        "  return x[0].isupper()\n",
        "\n",
        "#data uplode\n",
        "dls = ImageDataLoaders.from_name_func(\n",
        "    path,\n",
        "    get_image_files(path),\n",
        "    valid=0.2,\n",
        "    seed=42,\n",
        "    label_func=is_cat,\n",
        "    item_tfms=Resize(224)\n",
        "    )\n",
        "\n",
        "#train\n",
        "learn = vision_learner(dls, resnet34, metrics=accuracy)\n",
        "learn.fine_tune(2)\n"
      ],
      "metadata": {
        "id": "OfiTjrDMbKFq"
      },
      "execution_count": null,
      "outputs": []
    },
    {
      "cell_type": "code",
      "source": [
        "upload = widgets.FileUpload()\n",
        "upload"
      ],
      "metadata": {
        "id": "b2qImnDTbtkO"
      },
      "execution_count": null,
      "outputs": []
    },
    {
      "cell_type": "code",
      "source": [
        "img = PILImage.create(upload.data[-1])\n",
        "pred, _, prob = learn.predict(img)\n",
        "print(f'Prediction: {pred}; Probability: {prob.max():.2f}')"
      ],
      "metadata": {
        "id": "WN6LoOZ1cy7E"
      },
      "execution_count": null,
      "outputs": []
    },
    {
      "cell_type": "markdown",
      "source": [
        "ML"
      ],
      "metadata": {
        "id": "uhAuRtQng6EF"
      }
    },
    {
      "cell_type": "code",
      "source": [
        "from sklearn.datasets import make_regression\n",
        "import matplotlib.pyplot as plt\n",
        "\n",
        "data = make_regression(n_samples=40, n_features=1, noise=10, random_state=42)\n",
        "x_data = data[0]\n",
        "y_data = data[1]\n",
        "\n",
        "def classic_program(x):\n",
        "    return x*80\n",
        "\n",
        "y_pred = [classic_program(x) for x in x_data]\n",
        "plt.scatter(x_data, y_data, label='Real datasets')\n",
        "plt.scatter(x_data, y_pred, label='prediction')\n",
        "plt.xlabel('x')\n",
        "plt.ylabel('y')\n",
        "plt.xticks(rotation=90)\n",
        "plt.yticks(rotation=90)\n",
        "plt.legend()\n",
        "plt.grid()\n",
        "plt.show()"
      ],
      "metadata": {
        "id": "jbhjxg83eAUU"
      },
      "execution_count": null,
      "outputs": []
    },
    {
      "cell_type": "code",
      "source": [
        "w=1.2\n",
        "def waight_assign_program(x, w):\n",
        "    return w*x*80\n",
        "\n",
        "y_pred = [waight_assign_program(x, w) for x in x_data]\n",
        "plt.scatter(x_data, y_data, label='Real datasets')\n",
        "plt.plot(x_data, y_pred, 'r', label='prediction')\n",
        "plt.xlabel('x')\n",
        "plt.ylabel('y')\n",
        "plt.xticks(rotation=90)\n",
        "plt.yticks(rotation=90)\n",
        "plt.legend()\n",
        "plt.grid()\n",
        "plt.show()"
      ],
      "metadata": {
        "id": "H-cpUt6ohiMp"
      },
      "execution_count": null,
      "outputs": []
    },
    {
      "cell_type": "code",
      "source": [
        "from sklearn.linear_model import LinearRegression\n",
        "\n",
        "regression = LinearRegression().fit(x_data.reshape(-1, 1), y_data)\n",
        "y_pred = regression.predict(x_data.reshape(-1, 1))\n",
        "\n",
        "plt.scatter(x_data, y_data, label='Real datasets')\n",
        "plt.plot(x_data, y_pred, 'r', label='ML dasturi')\n",
        "plt.xlabel('x')\n",
        "plt.ylabel('y')\n",
        "equation = f\"{regression.coef_[0]:.3f}X+{regression.intercept_:.3f}\"\n",
        "plt.title(f'(ML)-Linear Regression : {equation}')\n",
        "plt.xticks(rotation=90)\n",
        "plt.yticks(rotation=90)\n",
        "plt.legend()\n",
        "plt.grid()\n",
        "plt.show()"
      ],
      "metadata": {
        "id": "duK8Vvtqhn_c"
      },
      "execution_count": null,
      "outputs": []
    },
    {
      "cell_type": "markdown",
      "source": [
        "DL model"
      ],
      "metadata": {
        "id": "PgWzw7fmpK56"
      }
    },
    {
      "cell_type": "code",
      "source": [
        "from sklearn.neural_network import MLPRegressor\n",
        "\n",
        "mlp = MLPRegressor(max_iter=2000)\n",
        "mlp.fit(x_data.reshape(-1, 1), y_data)\n",
        "y_pred = mlp.predict(x_data.reshape(-1, 1))\n",
        "\n",
        "plt.scatter(x_data, y_data, label='Real datasets')\n",
        "plt.plot(x_data, y_pred, 'r', label='DL model')\n",
        "plt.xlabel('x')\n",
        "plt.ylabel('y')\n",
        "plt.legend()\n",
        "plt.grid()\n",
        "plt.show()"
      ],
      "metadata": {
        "id": "KqS2WJU-n9O_"
      },
      "execution_count": null,
      "outputs": []
    },
    {
      "cell_type": "code",
      "source": [],
      "metadata": {
        "id": "d5T0ElRJq9D_"
      },
      "execution_count": null,
      "outputs": []
    }
  ]
}