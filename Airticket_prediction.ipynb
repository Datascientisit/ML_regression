{
  "nbformat": 4,
  "nbformat_minor": 0,
  "metadata": {
    "colab": {
      "private_outputs": true,
      "provenance": [],
      "authorship_tag": "ABX9TyOCVHi2fTgrG0lA4Mlhu/iM",
      "include_colab_link": true
    },
    "kernelspec": {
      "name": "python3",
      "display_name": "Python 3"
    },
    "language_info": {
      "name": "python"
    }
  },
  "cells": [
    {
      "cell_type": "markdown",
      "metadata": {
        "id": "view-in-github",
        "colab_type": "text"
      },
      "source": [
        "<a href=\"https://colab.research.google.com/github/Datascientisit/ML_regression/blob/main/Airticket_prediction.ipynb\" target=\"_parent\"><img src=\"https://colab.research.google.com/assets/colab-badge.svg\" alt=\"Open In Colab\"/></a>"
      ]
    },
    {
      "cell_type": "code",
      "execution_count": null,
      "metadata": {
        "id": "okLfpa4-X-ea"
      },
      "outputs": [],
      "source": [
        "import pandas as pd\n",
        "import numpy as np\n",
        "import matplotlib.pyplot as plt\n",
        "%matplotlib inline\n",
        "import seaborn as sns\n",
        "import sklearn"
      ]
    },
    {
      "cell_type": "code",
      "source": [
        "train = pd.read_csv('/content/ML_train/train_data.csv (1).zip')\n",
        "test = pd.read_csv('/content/ML_train/test_data.csv')\n",
        "sample = pd.read_csv('/content/ML_train/sample_solution.csv')\n",
        "train.head()"
      ],
      "metadata": {
        "id": "mlQcRahpqbhq"
      },
      "execution_count": null,
      "outputs": []
    },
    {
      "cell_type": "markdown",
      "source": [
        "Ushbu maʼlumotlar toʻplami quyidagilarni o'z ichiga oladi:\n",
        "\n",
        "Tarkib:\n",
        "\n",
        "ID: Ketma - ketlik uchun qo'yilgan sonlar.\n",
        "\n",
        "Airline: Parvoz qilingan aviakompaniya nomi.\n",
        "\n",
        "Flight: Parvoz qilingan ID raqami.\n",
        "\n",
        "Source_city: Parvoz qaysi shahardan boshlanishi.\n",
        "\n",
        "Departure_time: Samolyotning ketish vaqti.\n",
        "\n",
        "Stop: Parvoz davomida to'xtashlar soni.\n",
        "\n",
        "Arrival_time: Qaytish vaqti.\n",
        "\n",
        "Destination_city: Qaysi davlatga parvoz qilinayotgani.\n",
        "\n",
        "Class: Foydalanuvchi samolyotning qaysi klass turidan foydalanib uchganligi.\n",
        "\n",
        "Duration: Parvoz davomiyligi.\n",
        "\n",
        "Days_left: Samolyotning qancha vaqtdan keyin qaytishi."
      ],
      "metadata": {
        "id": "91Rph7-6tM6F"
      }
    },
    {
      "cell_type": "code",
      "source": [
        "train.describe()"
      ],
      "metadata": {
        "id": "3jbUKsG6r09V"
      },
      "execution_count": null,
      "outputs": []
    },
    {
      "cell_type": "code",
      "source": [
        "train.info()"
      ],
      "metadata": {
        "id": "RKyxMUhRs9RX"
      },
      "execution_count": null,
      "outputs": []
    },
    {
      "cell_type": "code",
      "source": [
        "train['class'].value_counts()"
      ],
      "metadata": {
        "id": "PqXjBLMZtclX"
      },
      "execution_count": null,
      "outputs": []
    },
    {
      "cell_type": "code",
      "source": [
        "train['stops'].value_counts()"
      ],
      "metadata": {
        "id": "qyGWhje3ttLW"
      },
      "execution_count": null,
      "outputs": []
    },
    {
      "cell_type": "code",
      "source": [
        "train['class'] = train['class'].map({'Economy': 0, 'Business': 1})\n",
        "train['stops'] = train['stops'].map({'one': 1, 'zero': 0, 'two_or_more': 2})"
      ],
      "metadata": {
        "id": "LzGftBfstp0A"
      },
      "execution_count": null,
      "outputs": []
    },
    {
      "cell_type": "code",
      "source": [
        "# o'rtacha qimmat va o'rtacha arzon aviakompaniyalar\n",
        "train.groupby(['airline']).agg({'price': 'mean'})"
      ],
      "metadata": {
        "id": "EpjsQt8Ht30g"
      },
      "execution_count": null,
      "outputs": []
    },
    {
      "cell_type": "code",
      "source": [
        "train['airline'] = train['airline'].map({'AirAsia': 0, 'Indigo': 1, 'GO_FIRST': 2, 'SpiceJet': 3, 'Air_India': 4, 'Vistara': 5})\n",
        "train.head()"
      ],
      "metadata": {
        "id": "zwla2wMgt-KE"
      },
      "execution_count": null,
      "outputs": []
    },
    {
      "cell_type": "code",
      "source": [
        "train.select_dtypes(include=(int, float)).corrwith(train['price']).abs()\n",
        "train.hist(bins=50, figsize=(12,8))\n",
        "sns.histplot(train)"
      ],
      "metadata": {
        "id": "UCzcHr_8uC_T"
      },
      "execution_count": null,
      "outputs": []
    },
    {
      "cell_type": "code",
      "source": [
        "print(train.isnull().sum())\n",
        "print(train.shape)"
      ],
      "metadata": {
        "id": "jDIdIK6cuIxu"
      },
      "execution_count": null,
      "outputs": []
    },
    {
      "cell_type": "markdown",
      "source": [
        "Machine Learningga tayyorgarlik"
      ],
      "metadata": {
        "id": "T1sQpdJhuvfl"
      }
    },
    {
      "cell_type": "code",
      "source": [
        "from sklearn.model_selection import train_test_split\n",
        "from sklearn.compose import ColumnTransformer\n",
        "from sklearn.preprocessing import StandardScaler, OneHotEncoder\n",
        "\n",
        "X = train.drop('price', axis=1)\n",
        "y = train['price']\n",
        "\n",
        "scaler = StandardScaler()\n",
        "\n",
        "nums = ['id', 'airline', 'stops', 'class', 'duration', 'days_left']\n",
        "cats = ['flight', 'source_city', 'departure_time', 'arrival_time','destination_city']\n",
        "\n",
        "num_transformer = StandardScaler()\n",
        "cat_transformer = OneHotEncoder(handle_unknown='ignore')\n",
        "\n",
        "\n",
        "full_pipeline = ColumnTransformer(\n",
        "    transformers=[\n",
        "        ('num', num_transformer, nums),  # Raqamli ustunlarni o'zgartirish\n",
        "        ('cat', cat_transformer, cats)   # Kategorik ustunlarni o'zgartirish\n",
        "    ])\n",
        "\n",
        "X_prepared = full_pipeline.fit_transform(X)\n",
        "\n",
        "X_train, X_test, y_train, y_test = train_test_split(X_prepared, y, test_size=0.2, random_state=42)"
      ],
      "metadata": {
        "id": "7j_Ct27UuaM0"
      },
      "execution_count": null,
      "outputs": []
    },
    {
      "cell_type": "code",
      "source": [
        "X_train.toarray()\n",
        "X_test.toarray()"
      ],
      "metadata": {
        "id": "06vSIWppvGY8"
      },
      "execution_count": null,
      "outputs": []
    },
    {
      "cell_type": "code",
      "source": [
        "from sklearn.metrics import mean_absolute_error, mean_squared_error, r2_score, explained_variance_score\n",
        "\n",
        "def score(y_train, y_pred):\n",
        "    mae = mean_absolute_error(y_train, y_test)\n",
        "    mse = mean_squared_error(y_train, y_test)\n",
        "    r2 = r2_score(y_train, y_test)\n",
        "    # EVS hisoblash\n",
        "    evs = explained_variance_score(y_train, y_test)\n",
        "    print(f'MAE: {mae}')\n",
        "    print(f'RMSE: {np.sqrt(mse)}')\n",
        "    print(f'R-squared: {r2}')\n",
        "    print(f\"Explained Variance Score: {evs}\")"
      ],
      "metadata": {
        "id": "U3UUAOR0vUjp"
      },
      "execution_count": null,
      "outputs": []
    },
    {
      "cell_type": "markdown",
      "source": [
        "Linear Regression"
      ],
      "metadata": {
        "id": "0cYNsfnJvuaO"
      }
    },
    {
      "cell_type": "code",
      "source": [
        "from sklearn.linear_model import LinearRegression\n",
        "\n",
        "LR_model = LinearRegression().fit(X_train, y_train)\n",
        "y_predicted = LR_model.predict(X_test)\n",
        "\n",
        "print('LinearRegression \\'test set\\'\\n')\n",
        "score(y_test, y_predicted)"
      ],
      "metadata": {
        "id": "L7uLIje7voeO"
      },
      "execution_count": null,
      "outputs": []
    },
    {
      "cell_type": "markdown",
      "source": [
        "RandomForest Regression"
      ],
      "metadata": {
        "id": "3lILeCExwf99"
      }
    },
    {
      "cell_type": "code",
      "source": [
        "from sklearn.ensemble import RandomForestRegressor\n",
        "\n",
        "RF_model = RandomForestRegressor(n_estimators=50, random_state=42).fit(X_train, y_train)\n",
        "y_predicted1 = RF_model.predict(X_test)\n",
        "\n",
        "print('RF model :\\n')\n",
        "score(y_test, y_predicted1)"
      ],
      "metadata": {
        "id": "wKsohyoPwNk5"
      },
      "execution_count": null,
      "outputs": []
    },
    {
      "cell_type": "markdown",
      "source": [
        "DesignTree Modeli"
      ],
      "metadata": {
        "id": "bBKb3ihnx5Xs"
      }
    },
    {
      "cell_type": "code",
      "source": [
        "from sklearn.tree import DecisionTreeRegressor\n",
        "\n",
        "DT_model = DecisionTreeRegressor(random_state=42).fit(X_train, y_train)\n",
        "y_predicted2 = DT_model.predict(X_test)\n",
        "\n",
        "print('DT model :\\n')\n",
        "score(y_test, y_predicted2)"
      ],
      "metadata": {
        "id": "xhhv3_82w_ns"
      },
      "execution_count": null,
      "outputs": []
    },
    {
      "cell_type": "markdown",
      "source": [
        "Test bilan bashorat"
      ],
      "metadata": {
        "id": "QMw_7MkKyvSX"
      }
    },
    {
      "cell_type": "code",
      "source": [
        "test['class'] = test['class'].map({'Economy': 0, 'Business': 1})\n",
        "test['stops'] = test['stops'].map({'one': 1, 'zero': 0, 'two_or_more': 2})\n",
        "\n",
        "test['airline'] = test['airline'].map({'AirAsia': 0, 'Indigo': 1, 'GO_FIRST': 2, 'SpiceJet': 3, 'Air_India': 4, 'Vistara': 5})"
      ],
      "metadata": {
        "id": "fEIcxfjmyEP4"
      },
      "execution_count": null,
      "outputs": []
    },
    {
      "cell_type": "code",
      "source": [
        "test_prepared = full_pipeline.transform(test)\n",
        "test_prepared.toarray()"
      ],
      "metadata": {
        "id": "ddRzfGLhy1lO"
      },
      "execution_count": null,
      "outputs": []
    },
    {
      "cell_type": "code",
      "source": [
        "y_predicted = RF_model.predict(test_prepared)"
      ],
      "metadata": {
        "id": "NhXHc_k1zBhL"
      },
      "execution_count": null,
      "outputs": []
    },
    {
      "cell_type": "code",
      "source": [
        "sample = pd.read_csv('/content/ML_train/sample_solution.csv')"
      ],
      "metadata": {
        "id": "1TJw8_EJzRnI"
      },
      "execution_count": null,
      "outputs": []
    },
    {
      "cell_type": "code",
      "source": [
        "sample['price']=y_predicted\n",
        "sample.head()"
      ],
      "metadata": {
        "id": "TorS7Cfhzi0N"
      },
      "execution_count": null,
      "outputs": []
    },
    {
      "cell_type": "code",
      "source": [
        "sample.to_csv('sample_solution.csv', index=False)"
      ],
      "metadata": {
        "id": "oZnewUVxzl01"
      },
      "execution_count": null,
      "outputs": []
    },
    {
      "cell_type": "code",
      "source": [],
      "metadata": {
        "id": "cULwlAD3ztyx"
      },
      "execution_count": null,
      "outputs": []
    }
  ]
}