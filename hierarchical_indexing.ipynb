{
  "nbformat": 4,
  "nbformat_minor": 0,
  "metadata": {
    "colab": {
      "private_outputs": true,
      "provenance": [],
      "authorship_tag": "ABX9TyNOsB04CzfpUMkFjQNbJ4MR",
      "include_colab_link": true
    },
    "kernelspec": {
      "name": "python3",
      "display_name": "Python 3"
    },
    "language_info": {
      "name": "python"
    }
  },
  "cells": [
    {
      "cell_type": "markdown",
      "metadata": {
        "id": "view-in-github",
        "colab_type": "text"
      },
      "source": [
        "<a href=\"https://colab.research.google.com/github/Datascientisit/ML_regression/blob/main/hierarchical_indexing.ipynb\" target=\"_parent\"><img src=\"https://colab.research.google.com/assets/colab-badge.svg\" alt=\"Open In Colab\"/></a>"
      ]
    },
    {
      "cell_type": "code",
      "execution_count": null,
      "metadata": {
        "id": "5tdZvtLSDWOS"
      },
      "outputs": [],
      "source": [
        "import pandas as pd\n",
        "import numpy as np"
      ]
    },
    {
      "cell_type": "code",
      "source": [
        "data = pd.Series(np.random.randn(9), index=['a', 'a', 'a', 'b', 'b', 'c', 'c', 'd', 'd'])\n",
        "data"
      ],
      "metadata": {
        "id": "sEtEZT_DDkEQ"
      },
      "execution_count": null,
      "outputs": []
    },
    {
      "cell_type": "code",
      "source": [
        "data.index.is_unique"
      ],
      "metadata": {
        "id": "AMU6In2uEJbL"
      },
      "execution_count": null,
      "outputs": []
    },
    {
      "cell_type": "code",
      "source": [
        "data1 = pd.Series(np.random.randn(9), index=[['a', 'a', 'a', 'b', 'b', 'c', 'c', 'd', 'd'],[1, 2, 3, 1, 3, 1, 2, 2, 3]])\n",
        "data1"
      ],
      "metadata": {
        "id": "fw-uxyYxEQWm"
      },
      "execution_count": null,
      "outputs": []
    },
    {
      "cell_type": "code",
      "source": [
        "data1.loc['a']"
      ],
      "metadata": {
        "id": "PwV2VFcuErQ_"
      },
      "execution_count": null,
      "outputs": []
    },
    {
      "cell_type": "code",
      "source": [
        "data1.index"
      ],
      "metadata": {
        "id": "z5JX_o3bE3Mb"
      },
      "execution_count": null,
      "outputs": []
    },
    {
      "cell_type": "code",
      "source": [
        "data1.loc['a', 2]"
      ],
      "metadata": {
        "id": "dv0FTwjOFKKU"
      },
      "execution_count": null,
      "outputs": []
    },
    {
      "cell_type": "code",
      "source": [
        "!git clone https://github.com/MansurCompAI/Practicum_Datasets.git"
      ],
      "metadata": {
        "id": "a45nkKwdvDMR"
      },
      "execution_count": null,
      "outputs": []
    },
    {
      "cell_type": "code",
      "source": [],
      "metadata": {
        "id": "nrpHIz_uv0m6"
      },
      "execution_count": null,
      "outputs": []
    },
    {
      "cell_type": "markdown",
      "source": [
        "# New Section"
      ],
      "metadata": {
        "id": "MuknFGPXwvAw"
      }
    },
    {
      "cell_type": "code",
      "source": [
        "movies = pd.read_csv('/content/Practicum_Datasets/IMDb/IMDb_movies.csv')"
      ],
      "metadata": {
        "id": "AjEk0w4uw2lT"
      },
      "execution_count": null,
      "outputs": []
    },
    {
      "cell_type": "code",
      "source": [
        "movies.head()"
      ],
      "metadata": {
        "id": "2DZoGcsBxxBH"
      },
      "execution_count": null,
      "outputs": []
    },
    {
      "cell_type": "code",
      "source": [
        "ratings = pd.read_csv('/content/Practicum_Datasets/IMDb/IMDb_ratings.csv')\n",
        "ratings"
      ],
      "metadata": {
        "id": "d7f12keLx4oN"
      },
      "execution_count": null,
      "outputs": []
    },
    {
      "cell_type": "code",
      "source": [
        "movies_ratings = pd.merge(movies, ratings)"
      ],
      "metadata": {
        "id": "5zr0AnG3yGpq"
      },
      "execution_count": null,
      "outputs": []
    },
    {
      "cell_type": "code",
      "source": [
        "data1.unstack().stack()"
      ],
      "metadata": {
        "id": "Zjo816zRyLRj"
      },
      "execution_count": null,
      "outputs": []
    },
    {
      "cell_type": "code",
      "source": [
        "A = pd.DataFrame({\"Transport\":['Poyezd', 'Avtomobil', 'Samaliyot', 'Autobus'],\n",
        "              'Tezligi':[70, 180, 790, 45]})\n",
        "A"
      ],
      "metadata": {
        "id": "rmsLGvAXy7G-"
      },
      "execution_count": null,
      "outputs": []
    },
    {
      "cell_type": "code",
      "source": [
        "B = pd.DataFrame({\"Transport\":['Poyezd', 'Avtomobil', 'Samaliyot', 'Autobus'],\n",
        "              'Narxi':[980000, 100000, 3000000, 45000],\n",
        "                  'Status':['$', '$', '$', '$']})\n",
        "B"
      ],
      "metadata": {
        "id": "XDr2DbKPWeKE"
      },
      "execution_count": null,
      "outputs": []
    },
    {
      "cell_type": "code",
      "source": [
        "pd.merge(A, B, on='Transport', how='outer')"
      ],
      "metadata": {
        "id": "hVXZYP4SW_RQ"
      },
      "execution_count": null,
      "outputs": []
    },
    {
      "cell_type": "code",
      "source": [
        "bank = pd.read_csv('/content/Practicum_Datasets/bank.csv', sep=';')\n",
        "bank"
      ],
      "metadata": {
        "id": "YRUKiwpEXRQ7"
      },
      "execution_count": null,
      "outputs": []
    },
    {
      "cell_type": "code",
      "source": [
        "bank.columns"
      ],
      "metadata": {
        "id": "ez4qDVfWaT5G"
      },
      "execution_count": null,
      "outputs": []
    },
    {
      "cell_type": "code",
      "source": [
        "bank.info()"
      ],
      "metadata": {
        "id": "fn6fZhdDagnL"
      },
      "execution_count": null,
      "outputs": []
    },
    {
      "cell_type": "code",
      "source": [],
      "metadata": {
        "id": "hSuOkPoka2Et"
      },
      "execution_count": null,
      "outputs": []
    },
    {
      "cell_type": "code",
      "source": [],
      "metadata": {
        "id": "HlwJvjcQa9a0"
      },
      "execution_count": null,
      "outputs": []
    }
  ]
}