{
  "nbformat": 4,
  "nbformat_minor": 0,
  "metadata": {
    "colab": {
      "private_outputs": true,
      "provenance": [],
      "gpuType": "T4",
      "mount_file_id": "1C6G4z_Hfh439YPctAx6zzxGrwJ9d-4Sb",
      "authorship_tag": "ABX9TyOueObdZxMMfVVb5dH9VPPe",
      "include_colab_link": true
    },
    "kernelspec": {
      "name": "python3",
      "display_name": "Python 3"
    },
    "language_info": {
      "name": "python"
    },
    "accelerator": "GPU"
  },
  "cells": [
    {
      "cell_type": "markdown",
      "metadata": {
        "id": "view-in-github",
        "colab_type": "text"
      },
      "source": [
        "<a href=\"https://colab.research.google.com/github/Datascientisit/ML_regression/blob/main/pnevmaniya.ipynb\" target=\"_parent\"><img src=\"https://colab.research.google.com/assets/colab-badge.svg\" alt=\"Open In Colab\"/></a>"
      ]
    },
    {
      "cell_type": "code",
      "source": [
        "from zipfile import ZipFile"
      ],
      "metadata": {
        "id": "Y4lBeSOgi7OX"
      },
      "execution_count": null,
      "outputs": []
    },
    {
      "cell_type": "code",
      "source": [
        "with ZipFile('/content/drive/MyDrive/train.zip', 'r') as zip2:\n",
        "    zip2.extractall('/content/drive/MyDrive/train_extracted')"
      ],
      "metadata": {
        "id": "ap1CKussmxbk"
      },
      "execution_count": null,
      "outputs": []
    },
    {
      "cell_type": "code",
      "source": [
        "from fastai.vision.all import *\n",
        "import pandas as pd\n",
        "path = Path('/content/drive/MyDrive/train_extracted')\n",
        "# path.ls()\n",
        "\n",
        "path.ls()"
      ],
      "metadata": {
        "id": "75w4yL76nd1_"
      },
      "execution_count": null,
      "outputs": []
    },
    {
      "cell_type": "code",
      "source": [
        "PNEUMONIA = (path/'PNEUMONIA').ls().sorted()\n",
        "NORMAL = (path/'NORMAL').ls().sorted()\n",
        "sample = pd.read_csv('/content/sample_submission.csv')"
      ],
      "metadata": {
        "id": "KkM3gTJXpakx"
      },
      "execution_count": null,
      "outputs": []
    },
    {
      "cell_type": "code",
      "source": [
        "len(PNEUMONIA), len(NORMAL)"
      ],
      "metadata": {
        "id": "QwV_6uYMqrfp"
      },
      "execution_count": null,
      "outputs": []
    },
    {
      "cell_type": "code",
      "source": [
        "n = len(NORMAL)\n",
        "PNEUMONIA = PNEUMONIA[:n]\n",
        "len(PNEUMONIA), len(NORMAL)"
      ],
      "metadata": {
        "id": "AUMr-tUaq5QG"
      },
      "execution_count": null,
      "outputs": []
    },
    {
      "cell_type": "code",
      "source": [
        "imP_path = PNEUMONIA[1]\n",
        "imP = Image.open(imP_path)\n",
        "imP"
      ],
      "metadata": {
        "id": "kyjQ0bziq7nz"
      },
      "execution_count": null,
      "outputs": []
    },
    {
      "cell_type": "code",
      "source": [
        "lungs = DataBlock(\n",
        "    blocks=(ImageBlock, CategoryBlock),\n",
        "    get_items=get_image_files,\n",
        "    splitter=RandomSplitter(valid_pct=0.2, seed=42),\n",
        "    get_y=parent_label,\n",
        "    item_tfms=Resize(224)\n",
        ")\n",
        "\n",
        "dls = lungs.dataloaders(path)\n",
        "\n",
        "learn = vision_learner(dls, resnet34, metrics=accuracy)\n",
        "learn.fine_tune(4)"
      ],
      "metadata": {
        "id": "VqwD2x5Xq-Q5"
      },
      "execution_count": null,
      "outputs": []
    },
    {
      "cell_type": "code",
      "source": [
        "path_test = Path('/content/drive/MyDrive/test')\n",
        "# path.ls()\n",
        "\n",
        "path_test.ls()"
      ],
      "metadata": {
        "id": "jSw0Q3KDrLuL"
      },
      "execution_count": null,
      "outputs": []
    },
    {
      "cell_type": "code",
      "source": [
        "image_files = list(Path(path_test).glob(\"*.jpeg\"))\n",
        "ind = 0\n",
        "for item in sample[\"id\"].values:\n",
        "    img = PILImage.create(image_files[ind])\n",
        "    pred, pred_id ,probs = learn.predict(img)\n",
        "    sample.at[ind,\"labels\"] = pred\n",
        "    ind += 1"
      ],
      "metadata": {
        "id": "83uzE4fW4hmE"
      },
      "execution_count": null,
      "outputs": []
    },
    {
      "cell_type": "code",
      "source": [
        "import os\n",
        "\n",
        "img_path = \"/content/drive/MyDrive/test/test_img_10238.jpeg\"\n",
        "print(\"File exists:\", os.path.exists(img_path))\n",
        "print(\"File size:\", os.path.getsize(img_path), \"bytes\")\n"
      ],
      "metadata": {
        "id": "vBy7VGkT5lDn"
      },
      "execution_count": null,
      "outputs": []
    },
    {
      "cell_type": "code",
      "source": [
        "import imghdr\n",
        "\n",
        "print(imghdr.what(img_path))"
      ],
      "metadata": {
        "id": "BPuEjzHn5shT"
      },
      "execution_count": null,
      "outputs": []
    },
    {
      "cell_type": "code",
      "source": [
        "print(\"Total images found:\", len(image_files))\n",
        "print(\"First 5 images:\", image_files[:5])"
      ],
      "metadata": {
        "id": "QKkoe9JX6s6t"
      },
      "execution_count": null,
      "outputs": []
    },
    {
      "cell_type": "code",
      "source": [
        "from pathlib import Path\n",
        "\n",
        "path_test = Path(\"/content/drive/MyDrive/test\")\n",
        "image_files = list(path_test.glob(\"*.jpeg\"))\n",
        "\n",
        "print(\"Total images found:\", len(image_files))"
      ],
      "metadata": {
        "id": "xfPH-zEn6y1x"
      },
      "execution_count": null,
      "outputs": []
    },
    {
      "cell_type": "code",
      "source": [
        "list(path_test.glob(\"*.*\"))"
      ],
      "metadata": {
        "id": "JYKdlwbY7NfM"
      },
      "execution_count": null,
      "outputs": []
    },
    {
      "cell_type": "code",
      "source": [
        "ind = 0\n",
        "for item in sample[\"id\"].values:\n",
        "    img_path = image_files[ind]\n",
        "\n",
        "    try:\n",
        "        img = PILImage.create(img_path)\n",
        "        pred, pred_id, probs = learn.predict(img)\n",
        "        sample.at[ind, \"labels\"] = pred\n",
        "    except Exception as e:\n",
        "        print(f\"Skipping {img_path} due to error: {e}\")\n",
        "    ind+=1\n",
        "    if ind<=600:\n",
        "      break"
      ],
      "metadata": {
        "id": "iwxeqGDb7SuD"
      },
      "execution_count": null,
      "outputs": []
    },
    {
      "cell_type": "code",
      "source": [
        "inter = ClassificationInterpretation.from_learner(learn)\n",
        "inter.plot_confusion_matrix()"
      ],
      "metadata": {
        "id": "tvF9tqwkzAt0"
      },
      "execution_count": null,
      "outputs": []
    },
    {
      "cell_type": "code",
      "source": [
        "inter.print_classification_report()"
      ],
      "metadata": {
        "id": "Yp3bNtfkzZau"
      },
      "execution_count": null,
      "outputs": []
    },
    {
      "cell_type": "code",
      "source": [
        "inter.plot_top_losses(10, nrows=5)"
      ],
      "metadata": {
        "id": "8BDvC5lz2d4R"
      },
      "execution_count": null,
      "outputs": []
    },
    {
      "cell_type": "code",
      "source": [],
      "metadata": {
        "id": "SuuDy-h885Nx"
      },
      "execution_count": null,
      "outputs": []
    }
  ]
}